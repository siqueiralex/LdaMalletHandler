{
 "cells": [
  {
   "cell_type": "code",
   "execution_count": 4,
   "metadata": {},
   "outputs": [],
   "source": [
    "from LdaMalletHandler import LdaMalletHandler\n",
    "\n",
    "# The purpose of this script is only to demonstrate the LdaMalletHandler usage\n",
    "# Note that you must have a Loader and a Preprocessor to use this code entirely\n",
    "import Loader\n",
    "from PreProcessor import Preprocessor"
   ]
  },
  {
   "cell_type": "code",
   "execution_count": 5,
   "metadata": {},
   "outputs": [],
   "source": [
    "corpus_path = \"data/1MesFolha\"\n",
    "mallet_path = \"/Users/alex/mallet-2.0.8/bin/mallet\""
   ]
  },
  {
   "cell_type": "markdown",
   "metadata": {},
   "source": [
    "### Load corpus"
   ]
  },
  {
   "cell_type": "code",
   "execution_count": 6,
   "metadata": {},
   "outputs": [
    {
     "name": "stdout",
     "output_type": "stream",
     "text": [
      "Number of articles: 5741\n"
     ]
    }
   ],
   "source": [
    "corpus = Loader.load_from_folder(corpus_path)\n",
    "print(\"Number of articles:\", len(corpus['articles']))"
   ]
  },
  {
   "cell_type": "markdown",
   "metadata": {},
   "source": [
    "### Pre-process and tokenize"
   ]
  },
  {
   "cell_type": "code",
   "execution_count": 7,
   "metadata": {},
   "outputs": [
    {
     "name": "stdout",
     "output_type": "stream",
     "text": [
      "Example of preprocessed doc: ['quantidade', 'substancialmente', 'menor', 'tributos', 'sobrecarregar', 'forma', 'injusta', 'contribuintes', 'cumpridores', 'lei']\n"
     ]
    }
   ],
   "source": [
    "p = Preprocessor(lang='portuguese')  \n",
    "pre_processed = p.transform(corpus['articles'])\n",
    "print(\"Example of preprocessed doc:\",pre_processed[0][-10:])"
   ]
  },
  {
   "cell_type": "markdown",
   "metadata": {},
   "source": [
    "### Apply model"
   ]
  },
  {
   "cell_type": "code",
   "execution_count": 8,
   "metadata": {},
   "outputs": [],
   "source": [
    "lda = LdaMalletHandler(mallet_path=mallet_path)\n",
    "lda.run_model(model_name=\"1MesFolha50topics\", corpus=pre_processed, num_topics=50, workers=8, iterations=100)"
   ]
  },
  {
   "cell_type": "markdown",
   "metadata": {},
   "source": [
    "### Save Model "
   ]
  },
  {
   "cell_type": "code",
   "execution_count": 9,
   "metadata": {},
   "outputs": [],
   "source": [
    "lda.save_model()"
   ]
  }
 ],
 "metadata": {
  "kernelspec": {
   "display_name": "Python 3",
   "language": "python",
   "name": "python3"
  },
  "language_info": {
   "codemirror_mode": {
    "name": "ipython",
    "version": 3
   },
   "file_extension": ".py",
   "mimetype": "text/x-python",
   "name": "python",
   "nbconvert_exporter": "python",
   "pygments_lexer": "ipython3",
   "version": "3.6.6"
  }
 },
 "nbformat": 4,
 "nbformat_minor": 2
}
