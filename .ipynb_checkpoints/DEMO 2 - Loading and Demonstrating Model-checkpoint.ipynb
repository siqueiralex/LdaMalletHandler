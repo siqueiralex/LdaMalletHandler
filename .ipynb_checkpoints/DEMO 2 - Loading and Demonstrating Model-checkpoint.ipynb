{
 "cells": [
  {
   "cell_type": "code",
   "execution_count": 1,
   "metadata": {},
   "outputs": [],
   "source": [
    "from LdaMalletHandler import LdaMalletHandler\n",
    "\n",
    "# The purpose of this script is only to demonstrate my LdaMalletHandler usage\n",
    "# Note that you must have a Loader and a Preprocessor to use this code entirely\n",
    "import Loader\n",
    "from PreProcessor import Preprocessor"
   ]
  },
  {
   "cell_type": "code",
   "execution_count": 3,
   "metadata": {},
   "outputs": [],
   "source": [
    "saved_model_name = \"1MesFolha50\"\n",
    "mallet_path = \"/Users/alex/mallet-2.0.8/bin/mallet\"\n",
    "corpus_path = \"data/\"\n",
    "corpus = Loader.load_from_folder(corpus_path)"
   ]
  },
  {
   "cell_type": "markdown",
   "metadata": {},
   "source": [
    "### Loading saved model"
   ]
  },
  {
   "cell_type": "code",
   "execution_count": 4,
   "metadata": {},
   "outputs": [],
   "source": [
    "lda = LdaMalletHandler(mallet_path=mallet_path)\n",
    "lda.load_model(saved_model_name)"
   ]
  },
  {
   "cell_type": "code",
   "execution_count": 5,
   "metadata": {},
   "outputs": [
    {
     "name": "stdout",
     "output_type": "stream",
     "text": [
      "Some topics of the model:\n"
     ]
    },
    {
     "data": {
      "text/plain": [
       "['ser pode forma exemplo podem sobre deve existem pesquisa especie',\n",
       " 'pt presidente lula sindicato cut clinton disse campanha vai oswaldo',\n",
       " 'norte contra nacional internacionais mexico sul exercito agencias americano americana',\n",
       " 'sul cr cidade rio agua praia km pessoas grande santa',\n",
       " 'jornal sobre ainda todos agora alguns outros outro qualquer nada',\n",
       " 'pais brasil paises populacao todos hoje apenas sociedade grande parece',\n",
       " 'paulo projeto prefeitura estado sp prefeito obras estadual maluf municipal',\n",
       " 'show noite banda grupo publico rock brasil festival palco bandeira',\n",
       " 'futebol time copa jogadores selecao equipe campeonato jogo tecnico vitoria',\n",
       " 'ano passado dia janeiro dezembro segundo dias desde outubro fevereiro']"
      ]
     },
     "execution_count": 5,
     "metadata": {},
     "output_type": "execute_result"
    }
   ],
   "source": [
    "print(\"Some topics of the model:\")\n",
    "all_topics = lda.get_string_topics()\n",
    "all_topics[:10]"
   ]
  },
  {
   "cell_type": "markdown",
   "metadata": {},
   "source": [
    "### Most representative document of topic"
   ]
  },
  {
   "cell_type": "code",
   "execution_count": 6,
   "metadata": {},
   "outputs": [
    {
     "name": "stdout",
     "output_type": "stream",
     "text": [
      "MOST REPRESENTATIVE DOCUMENTS OF TOPIC:\n",
      "pais brasil paises populacao todos hoje apenas sociedade grande parece\n",
      "\n",
      "\n",
      " PEDRO DE CAMARGO NETO O país tem assistido aos governos assinarem, com enorme desenvoltura, acordos internacionais com sérias implicações na vida de todo cidadão. Dentro do caos que vivemos e rapidez e abrangência dos acordos, tem sido muito difícil analisar criteriosamente seus efeitos. Nos últimos dias uma importante alteração no acordo do Mercosul foi anunciada. Caracterizado o fracasso da agenda do Tratado de Assunção, nosso governo passou a defender um período de livre comércio entre os países do Cone Sul. Que implicações existem para a vida daqueles que vão viver, colher os benefícios e pagar os custos, do recentemente acordado? O Tratado de Assunção pretendia criar um mercado comum para os quatro países signatários. Em prazo recorde, além do livre comércio, pretendia-se estabelecer a união aduaneira e a harmonização das diversas políticas macroeconômicas. A parte fácil (fácil para os negociadores, não para o cidadão) do acordo, a redução das barreiras alfandegárias entre os quatro países e a liberação do comércio foi realizada com presteza. A parte difícil, a harmonização das políticas, foi sendo deixada para depois. A etapa intermediária, a tarifa externa comum, foi suficiente para desmascarar o pretensioso cronograma do Tratado. As desculpas pela mudança no cronograma variam em função da geografia. De um lado apresenta-se a deterioração do valor da moeda nacional em 40% ao mês como causa do fracasso. Do outro, um engessamento artificial no valor da outra moeda. Na verdade, harmonizar políticas cambiais de diversos países, pressupõe que estas políticas existam em seus países de origem. Continua ser difícil afirmar este pressuposto. O princípio atrás da criação de um mercado comum é que a união das partes é maior do que a soma das partes. Não se trata de uma região perder e outra ganhar, mas, sim, de que todas acabam ganhando. As eficiências e competitividades dos setores produtivos são melhor aproveitadas, os consumidores melhor atendidos, gerando desenvolvimento e riqueza. Ao liberarem o comércio e unirem mercados, os setores produtivos dos países passam a concorrer entre si. É importante que isto ocorra em condições de igualdade. A harmonização de políticas é, portanto, condição essencial. Caso contrário não será a eficiência e competitividade que direcionarão os investimentos e sim distorções macroeconômicas entre os países. As violentas flutuações de fluxo comercial têm sido antes de tudo fruto de distorções cambiais. Os diferentes sobrepesos das cargas tributárias afetam diretamente a competitividade. A harmonização de políticas sequer começou. Estamos longe de termos um verdadeiro mercado comum. Justifica-se a aceitação de uma zona de livre comércio? Acreditamos que não. O setor agrícola aceitou o Mercosul por acreditar no princípio de um verdadeiro mercado comum. Obrigá-lo a conviver em uma zona de livre comércio sem a essencial harmonização de políticas e união aduaneira é outra coisa. Significa colocar em concorrência produções com diferentes cargas tributárias e custos de insumos e equipamentos. Poderemos perder investimentos e empregos não por sermos menos competitivos, porém por termos estrutura tributária e acesso a custos de produção diferentes. Estaremos prejudicando o verdadeiro mercado comum do futuro. Os custos sociais que serão criados serão provavelmente maiores que os ganhos do livre comércio. É simplismo falar em zona de livre comércio. O importante é trabalhar no sentido da harmonização de políticas e tarifas externas. Condições de salvaguardas dos setores produtivos precisam ser implementadas até a conclusão das essenciais harmonizações. O açodamento com que se assinou e ratificou no Congresso Nacional o Tratado de Assunção já foi responsável por grandes custos nos diversos países. Não é aceitável repetir o erro. O momento do Brasil se posicionar é agora e não quando as relações cambiais se inverterem.  PEDRO DE CAMARGO NETO, 44, agropecuarista, é presidente da Sociedade Rural Brasileira e do Fundepec (Fundo de Desenvolvimento da Pecuária de São Paulo). \n",
      "\n"
     ]
    }
   ],
   "source": [
    "topic_number = 5\n",
    "most_repr = lda.n_most_representative(topic_number,n=1)\n",
    "\n",
    "print(\"MOST REPRESENTATIVE DOCUMENTS OF TOPIC:\")\n",
    "print(all_topics[topic_number])\n",
    "print()\n",
    "print()\n",
    "for n_doc in most_repr:\n",
    "    print(corpus['articles'][n_doc])\n",
    "    print()"
   ]
  },
  {
   "cell_type": "markdown",
   "metadata": {},
   "source": [
    "### Most significative topics of internal document"
   ]
  },
  {
   "cell_type": "code",
   "execution_count": 7,
   "metadata": {},
   "outputs": [
    {
     "name": "stdout",
     "output_type": "stream",
     "text": [
      "DOCUMENT:\n",
      " O prefeito Paulo Maluf pretende marcar sua gestão através de grandes obras viárias na cidade de São Paulo. Maluf também parece querer fazer de um conjunto de pontes, túneis e avenidas o símbolo de uma possível candidatura presidencial. Mas esse ímpeto de realizar está atropelando o direito dos cidadãos de serem bem informados sobre a utilização do seu próprio dinheiro. A Prefeitura demorou três semanas mais do que o prometido para divulgar o laudo sobre o acidente nas obras de um túnel da zona sul da cidade. Entre os dias 24 e 26 de novembro o desabamento da galeria de um córrego, causado pelos trabalhos de escavação, provocou o surgimento de duas crateras nas avenidas sobre o túnel. Desde então, o governo municipal obstruiu o trabalho da imprensa no local e limitou as informações sobre o caso a lacônicos e quase nada informativos boletins oficiais, deixando a população da região intranquila. Agora, o secretrário de Obras da cidade diz que vai ignorar a determinação da Secretaria Estadual do Meio Ambiente de São Paulo de interromper a instalação do sistema de exaustores de outro túnel, os quais causariam excessiva poluição sonora numa região residencial. Se o secretário discorda da resolução deve procurar tomar as medidas cabíveis, até na Justiça se for o caso, e não desrespeitar as decisões de um órgão que representa os interesses da população na área ambiental. A maioria dos paulistanos aprovou nas urnas o projeto malufista de transformar a cidade em um canteiro de obras. Mas não deu carta branca ao prefeito para realizá-las a qualquer custo, sem dar satisfações sobre acidentes de percurso ou a críticas da sociedade ao modo como os trabalhos vêm sendo conduzidos. É a população que paga as contas. E são os paulistanos que podem arcar com os perigos de obras malfeitas. \n",
      "\n",
      "IS LIKELY TO BELONG TO:\n",
      "Topic 6 : paulo projeto prefeitura estado sp prefeito obras estadual maluf municipal - with probability: 0.241\n",
      "Topic 21 : lei empresas nacional conselho ministerio presidente controle administracao setor governo - with probability: 0.077\n"
     ]
    }
   ],
   "source": [
    "doc_number = 2\n",
    "doc_topics = lda.doc_topics(doc_number)\n",
    "\n",
    "\n",
    "print(\"DOCUMENT:\")\n",
    "print(corpus['articles'][doc_number])\n",
    "print()\n",
    "print(\"IS LIKELY TO BELONG TO:\")\n",
    "print(\"Topic\",doc_topics[0][0],\":\",all_topics[doc_topics[0][0]],\"- with probability: {:.3f}\".format(doc_topics[0][1]))\n",
    "print(\"Topic\",doc_topics[1][0],\":\",all_topics[doc_topics[1][0]],\"- with probability: {:.3f}\".format(doc_topics[1][1]))"
   ]
  },
  {
   "cell_type": "markdown",
   "metadata": {},
   "source": [
    "### Topics of new document"
   ]
  },
  {
   "cell_type": "code",
   "execution_count": 8,
   "metadata": {},
   "outputs": [
    {
     "name": "stdout",
     "output_type": "stream",
     "text": [
      "1st more likely: futebol time copa jogadores selecao equipe campeonato jogo tecnico vitoria\n",
      "2nd more likely tudo bem vai bom agora dizer ai ninguem porque sempre\n"
     ]
    }
   ],
   "source": [
    "new_document = '''\n",
    "O modelo de jogo do Felipão é esse, é convicção. \n",
    "O que se discute é que, apesar do sucesso no Brasileirão, no qual o time usa ligação direta, \n",
    "tem pouca troca de passes, gosta da bola no centroavante e da disputa da segunda bola, \n",
    "é se isso será suficiente para passar do Boca Juniors. \n",
    "No Brasileiro, o repertório é suficiente para ser líder. \n",
    "Para mim, o campeonato acabou. Acabou a brincadeira.\"\n",
    "'''\n",
    "\n",
    "# Preprocess new document\n",
    "p = Preprocessor(lang='portuguese')\n",
    "processed_new_doc = p.transform([new_document])[0]\n",
    "\n",
    "# time consuming if your model is too large \n",
    "topics = lda.ext_doc_topics(processed_new_doc)\n",
    "\n",
    "print(\"1st more likely:\", all_topics[topics[0][0]])\n",
    "print(\"2nd more likely\",all_topics[topics[1][0]])"
   ]
  },
  {
   "cell_type": "markdown",
   "metadata": {},
   "source": [
    "###  Most similar to new document"
   ]
  },
  {
   "cell_type": "code",
   "execution_count": 9,
   "metadata": {},
   "outputs": [
    {
     "name": "stdout",
     "output_type": "stream",
     "text": [
      "1th MOST SIMILAR:\n",
      "  Na emergência de conseguir mais dinheiro para os seus principais atletas, rompidos com a federação nacional e com o treinador Pavel Sadryin por uma questão de dinheiro, a Rússia acaba de acertar um contrato de patrocínio com uma empresa de vinhos da Itália. O líder dos ex-patriados da equipe (que está na chave brasileira na Copa-94), Igor Shalimov, já respondeu: \"É pouco\". \n",
      "\n",
      "2nd MOST SIMILAR:\n",
      "  As duas equipes estrearam no Grupo Verde do Campeonato Paulista com um empate em 0 a 0, em partida disputada à tarde em Itu. Foi o único empate e a única partida sem gols entre as disputadas ontem no Grupo A-1. Com isso, Ituano e Mogi Mirim dividem provisoriamente o sexto lugar do campeonato. \n"
     ]
    }
   ],
   "source": [
    "new_document = '''\n",
    "O modelo de jogo do Felipão é esse, é convicção. \n",
    "O que se discute é que, apesar do sucesso no Brasileirão, no qual o time usa ligação direta, \n",
    "tem pouca troca de passes, gosta da bola no centroavante e da disputa da segunda bola, \n",
    "é se isso será suficiente para passar do Boca Juniors. \n",
    "No Brasileiro, o repertório é suficiente para ser líder. \n",
    "Para mim, o campeonato acabou. Acabou a brincadeira.\"\n",
    "'''\n",
    "\n",
    "# Preprocess new document\n",
    "p = Preprocessor(lang='portuguese')\n",
    "processed_new_doc = p.transform([new_document])[0]\n",
    "\n",
    "# time consuming if your model is too large\n",
    "most_similar = lda.ext_doc_n_most_similar(processed_new_doc, n=2)\n",
    "\n",
    "print(\"1th MOST SIMILAR:\\n\", corpus['articles'][most_similar[0]])\n",
    "print()\n",
    "print(\"2nd MOST SIMILAR:\\n\", corpus['articles'][most_similar[1]])\n"
   ]
  },
  {
   "cell_type": "code",
   "execution_count": null,
   "metadata": {},
   "outputs": [],
   "source": []
  }
 ],
 "metadata": {
  "kernelspec": {
   "display_name": "Python 3",
   "language": "python",
   "name": "python3"
  },
  "language_info": {
   "codemirror_mode": {
    "name": "ipython",
    "version": 3
   },
   "file_extension": ".py",
   "mimetype": "text/x-python",
   "name": "python",
   "nbconvert_exporter": "python",
   "pygments_lexer": "ipython3",
   "version": "3.6.6"
  }
 },
 "nbformat": 4,
 "nbformat_minor": 2
}
