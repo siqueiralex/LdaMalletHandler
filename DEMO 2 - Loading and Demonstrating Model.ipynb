{
 "cells": [
  {
   "cell_type": "code",
   "execution_count": 2,
   "metadata": {},
   "outputs": [],
   "source": [
    "from LdaMalletHandler import LdaMalletHandler\n",
    "\n",
    "# The purpose of this script is only to demonstrate my LdaMalletHandler usage\n",
    "# Note that you must have a Loader and a Preprocessor to use this code entirely\n",
    "import Loader\n",
    "from PreProcessor import Preprocessor"
   ]
  },
  {
   "cell_type": "code",
   "execution_count": 2,
   "metadata": {},
   "outputs": [],
   "source": [
    "saved_model_name = \"1MesFolha50\"\n",
    "mallet_path = \"/Users/alex/mallet-2.0.8/bin/mallet\""
   ]
  },
  {
   "cell_type": "markdown",
   "metadata": {},
   "source": [
    "### Loading saved model"
   ]
  },
  {
   "cell_type": "code",
   "execution_count": 3,
   "metadata": {},
   "outputs": [],
   "source": [
    "lda = LdaMalletHandler(mallet_path=mallet_path)\n",
    "lda.load_model(saved_model_name)\n",
    "\n",
    "# load corpus from path stored in the saved model\n",
    "corpus = Loader.load_from_folder(lda.corpus_path)"
   ]
  },
  {
   "cell_type": "code",
   "execution_count": 26,
   "metadata": {},
   "outputs": [
    {
     "name": "stdout",
     "output_type": "stream",
     "text": [
      "Some topics of the model:\n"
     ]
    },
    {
     "data": {
      "text/plain": [
       "['final partida fase titulo ano equipe primeiro mundial time torneio',\n",
       " 'vida tudo homem filme ai onde ser todos bem mulher',\n",
       " 'saude segundo ser hospital medico deve casos conselho medicos medicina',\n",
       " 'paulo sp folha jornal sobre ser redacao horizonte dia imprensa',\n",
       " 'mercado empresas brasil empresa setor comercio industria capital produtos paises',\n",
       " 'parte fundacao recursos roberto proprio dinheiro uniao todos nacional verbas',\n",
       " 'disse afirmou ontem sobre caso segundo vai feira carvalho folha',\n",
       " 'paulo tempo min local contra bola gol reportagem primeiro tecnico',\n",
       " 'cr banco dia mercado juros mes dolar dias compra dinheiro',\n",
       " 'pontos los york italia nova agencias internacionais san norte angeles']"
      ]
     },
     "execution_count": 26,
     "metadata": {},
     "output_type": "execute_result"
    }
   ],
   "source": [
    "print(\"Some topics of the model:\")\n",
    "all_topics = lda.get_string_topics()\n",
    "all_topics[:10]"
   ]
  },
  {
   "cell_type": "markdown",
   "metadata": {},
   "source": [
    "### Most representative document of topic"
   ]
  },
  {
   "cell_type": "code",
   "execution_count": 27,
   "metadata": {},
   "outputs": [
    {
     "name": "stdout",
     "output_type": "stream",
     "text": [
      "MOST REPRESENTATIVE DOCUMENTS OF TOPIC:\n",
      "parte fundacao recursos roberto proprio dinheiro uniao todos nacional verbas\n",
      "\n",
      "\n",
      " Da Sucursal do Rio 1. A Fundação Roberto Marinho recebeu hoje os auditores do Tribunal de Contas da União, acompanhados dos deputados Paulo Ramos e José Lourenço, e vai providenciar prontamente os documentos solicitados. 2. A Fundação Roberto Marinho nunca recebeu subvenção social do Governo Federal e de nenhum outro governo. 3. Desde 1991, a Fundação Roberto Marinho não desenvolve nenhum convênio com qualquer órgão da Administração Pública Federal, que envolva recursos do Orçamento da União. 4. Todos os convênios assinados no período de 1988 a 1991 tiveram ampla cobertura da imprensa e TV, com seus objetivos claramente definidos. Sua realização foi sempre acompanhada por milhões de telespectadores. 5. Sempre apresentamos no tempo devido prestações de contas aos órgãos financiadores de todos os convênios, que têm sido regularmente aprovadas, não tendo nenhuma exigência pendente de ser cumprida. 6. Em dezembro de 1990, a Fundação Roberto Marinho foi alvo de uma CPMI do Congresso Nacional específica, concluindo que: diante das denúncias levantadas nada tinha a apurar, sendo aprovado, pela maioria de votos (14 a 1), o encerramento dos trabalhos, vencido apenas o sr. deputado Paulo Ramos. 7. Todas as suas contas têm sido regularmente aprovadas por seu Conselho Fiscal e pela Curadoria de Fundações do Ministério Público do Rio de Janeiro, órgão independente de qualquer governo. 8. Inexiste qualquer convênio com a Fundação de Assistência ao Estudante-FAE. 9. Nenhum dos convênios teve origem a partir de proposta de parlamentares na Comissão de Orçamento do Congresso Nacional; foram todos resultado de negociações entre professores e técnicos dos setores de educação e meio ambiente da Fundação Roberto Marinho, dos Ministérios do Governo Federal e da comunidade. 10. Os recursos, como já comprovaram as prestações de contas, foram integralmente aplicados nos seus objetivos, sendo que quando houve saldo, como no caso do \"Alfabetizar é Construir\" (com o FNDE) e do \"Globo Ecologia\" (com o Ibama), os recursos foram devolvidos ao governo, conforme comprovam os recibos incluídos nas prestações de contas. 11. Em nenhum momento houve repasse de recursos da Fundação Roberto Marinho às Organizações Globo. Ao contrário, estes convênios financiaram apenas parte dos projetos educacionais. As Organizações Globo aportam à Fundação Roberto Marinho os recursos financeiros necessários para seu pleno desenvolvimento: pelo menos mais de 15 milhões de dólares nos últimos anos. A TV Globo, o Sistema Globo de Rádio e o jornal \"O Globo\" cedem gratuitamente espaço para veiculação e divulgação dos Telecursos, arcando também integralmente com as despesas decorrentes. 12. A Fundação Roberto Marinho reitera sua disposição de colaborar com o Tribunal de Contas da União e com o Congresso Nacional para todo esclarecimento necessário, mesmo nos casos, como agora, em que inexiste qualquer acusação formal sobre seus procedimentos. Rio de Janeiro, 06 de janeiro de 1994. \n",
      "\n"
     ]
    }
   ],
   "source": [
    "topic_number = 5\n",
    "most_repr = lda.n_most_representative(topic_number,n=1)\n",
    "\n",
    "print(\"MOST REPRESENTATIVE DOCUMENTS OF TOPIC:\")\n",
    "print(all_topics[topic_number])\n",
    "print()\n",
    "print()\n",
    "for n_doc in most_repr:\n",
    "    print(corpus['articles'][n_doc])\n",
    "    print()"
   ]
  },
  {
   "cell_type": "markdown",
   "metadata": {},
   "source": [
    "### Most significative topics of internal document"
   ]
  },
  {
   "cell_type": "code",
   "execution_count": 5,
   "metadata": {},
   "outputs": [
    {
     "name": "stdout",
     "output_type": "stream",
     "text": [
      "DOCUMENT:\n",
      " O prefeito Paulo Maluf pretende marcar sua gestão através de grandes obras viárias na cidade de São Paulo. Maluf também parece querer fazer de um conjunto de pontes, túneis e avenidas o símbolo de uma possível candidatura presidencial. Mas esse ímpeto de realizar está atropelando o direito dos cidadãos de serem bem informados sobre a utilização do seu próprio dinheiro. A Prefeitura demorou três semanas mais do que o prometido para divulgar o laudo sobre o acidente nas obras de um túnel da zona sul da cidade. Entre os dias 24 e 26 de novembro o desabamento da galeria de um córrego, causado pelos trabalhos de escavação, provocou o surgimento de duas crateras nas avenidas sobre o túnel. Desde então, o governo municipal obstruiu o trabalho da imprensa no local e limitou as informações sobre o caso a lacônicos e quase nada informativos boletins oficiais, deixando a população da região intranquila. Agora, o secretrário de Obras da cidade diz que vai ignorar a determinação da Secretaria Estadual do Meio Ambiente de São Paulo de interromper a instalação do sistema de exaustores de outro túnel, os quais causariam excessiva poluição sonora numa região residencial. Se o secretário discorda da resolução deve procurar tomar as medidas cabíveis, até na Justiça se for o caso, e não desrespeitar as decisões de um órgão que representa os interesses da população na área ambiental. A maioria dos paulistanos aprovou nas urnas o projeto malufista de transformar a cidade em um canteiro de obras. Mas não deu carta branca ao prefeito para realizá-las a qualquer custo, sem dar satisfações sobre acidentes de percurso ou a críticas da sociedade ao modo como os trabalhos vêm sendo conduzidos. É a população que paga as contas. E são os paulistanos que podem arcar com os perigos de obras malfeitas. \n",
      "\n",
      "IS LIKELY TO BELONG TO:\n",
      "Topic 47 : paulo local rua cidade avenida prefeitura zona prefeito centro secretaria - with probability: 0.277\n",
      "Topic 45 : pais sociedade brasil politica populacao apenas todos publico publica brasileira - with probability: 0.059\n"
     ]
    }
   ],
   "source": [
    "doc_number = 2\n",
    "doc_topics = lda.doc_topics(doc_number)\n",
    "\n",
    "\n",
    "print(\"DOCUMENT:\")\n",
    "print(corpus['articles'][doc_number])\n",
    "print()\n",
    "print(\"IS LIKELY TO BELONG TO:\")\n",
    "print(\"Topic\",doc_topics[0][0],\":\",all_topics[doc_topics[0][0]],\"- with probability: {:.3f}\".format(doc_topics[0][1]))\n",
    "print(\"Topic\",doc_topics[1][0],\":\",all_topics[doc_topics[1][0]],\"- with probability: {:.3f}\".format(doc_topics[1][1]))"
   ]
  },
  {
   "cell_type": "markdown",
   "metadata": {},
   "source": [
    "### Topics of new document"
   ]
  },
  {
   "cell_type": "code",
   "execution_count": 30,
   "metadata": {},
   "outputs": [
    {
     "name": "stdout",
     "output_type": "stream",
     "text": [
      "1st more likely: time futebol copa tecnico jogadores clube jogador jogo campeonato selecao\n",
      "2nd more likely paulo tempo min local contra bola gol reportagem primeiro tecnico\n"
     ]
    }
   ],
   "source": [
    "new_document = '''\n",
    "O modelo de jogo do Felipão é esse, é convicção. \n",
    "O que se discute é que, apesar do sucesso no Brasileirão, no qual o time usa ligação direta, \n",
    "tem pouca troca de passes, gosta da bola no centroavante e da disputa da segunda bola, \n",
    "é se isso será suficiente para passar do Boca Juniors. \n",
    "No Brasileiro, o repertório é suficiente para ser líder. \n",
    "Para mim, o campeonato acabou. Acabou a brincadeira.\"\n",
    "'''\n",
    "\n",
    "# Preprocess new document\n",
    "p = Preprocessor(lang='portuguese')\n",
    "processed_new_doc = p.transform([new_document])[0]\n",
    "\n",
    "# time consuming if your model is too large \n",
    "topics = lda.ext_doc_topics(processed_new_doc)\n",
    "\n",
    "print(\"1st more likely:\", all_topics[topics[0][0]])\n",
    "print(\"2nd more likely\",all_topics[topics[1][0]])"
   ]
  },
  {
   "cell_type": "markdown",
   "metadata": {},
   "source": [
    "###  Most similar to new document"
   ]
  },
  {
   "cell_type": "code",
   "execution_count": null,
   "metadata": {},
   "outputs": [],
   "source": [
    "new_document = '''\n",
    "O modelo de jogo do Felipão é esse, é convicção. \n",
    "O que se discute é que, apesar do sucesso no Brasileirão, no qual o time usa ligação direta, \n",
    "tem pouca troca de passes, gosta da bola no centroavante e da disputa da segunda bola, \n",
    "é se isso será suficiente para passar do Boca Juniors. \n",
    "No Brasileiro, o repertório é suficiente para ser líder. \n",
    "Para mim, o campeonato acabou. Acabou a brincadeira.\"\n",
    "'''\n",
    "\n",
    "# Preprocess new document\n",
    "p = Preprocessor(lang='portuguese')\n",
    "processed_new_doc = p.transform([new_document])[0]\n",
    "\n",
    "# time consuming if your model is too large\n",
    "most_similar = lda.ext_doc_n_most_similar(processed_new_doc, n=2)\n",
    "\n",
    "print(\"1th MOST SIMILAR:\\n\", corpus['articles'][most_similar[0]])\n",
    "print()\n",
    "print(\"2nd MOST SIMILAR:\\n\", corpus['articles'][most_similar[1]])\n"
   ]
  },
  {
   "cell_type": "code",
   "execution_count": null,
   "metadata": {},
   "outputs": [],
   "source": []
  }
 ],
 "metadata": {
  "kernelspec": {
   "display_name": "Python 3",
   "language": "python",
   "name": "python3"
  },
  "language_info": {
   "codemirror_mode": {
    "name": "ipython",
    "version": 3
   },
   "file_extension": ".py",
   "mimetype": "text/x-python",
   "name": "python",
   "nbconvert_exporter": "python",
   "pygments_lexer": "ipython3",
   "version": "3.6.6"
  }
 },
 "nbformat": 4,
 "nbformat_minor": 2
}
